{
 "cells": [
  {
   "cell_type": "markdown",
   "id": "2782ff50",
   "metadata": {},
   "source": [
    "# DST 314 Mini Project 1 - Due Friday, September 30, 2022"
   ]
  },
  {
   "cell_type": "markdown",
   "id": "2d6896c1",
   "metadata": {},
   "source": [
    "### Read the world_population.csv file (Kaggle) and store the data as Python list of lists. Display the first 100 rows in this dataset."
   ]
  },
  {
   "cell_type": "code",
   "execution_count": 2,
   "id": "322fbcbe",
   "metadata": {},
   "outputs": [
    {
     "name": "stdout",
     "output_type": "stream",
     "text": [
      "['Rank', 'CCA3', 'Country', 'Capital', 'Continent', '2022 Population', '2020 Population', '2015 Population', '2010 Population', '2000 Population', '1990 Population', '1980 Population', '1970 Population', 'Area (kmÂ²)', 'Density (per kmÂ²)', 'Growth Rate', 'World Population Percentage']\n",
      "[['36', 'AFG', 'Afghanistan', 'Kabul', 'Asia', '41128771', '38972230', '33753499', '28189672', '19542982', '10694796', '12486631', '10752971', '652230', '63.0587', '1.0257', '0.52'], ['138', 'ALB', 'Albania', 'Tirana', 'Europe', '2842321', '2866849', '2882481', '2913399', '3182021', '3295066', '2941651', '2324731', '28748', '98.8702', '0.9957', '0.04'], ['34', 'DZA', 'Algeria', 'Algiers', 'Africa', '44903225', '43451666', '39543154', '35856344', '30774621', '25518074', '18739378', '13795915', '2381741', '18.8531', '1.0164', '0.56'], ['213', 'ASM', 'American Samoa', 'Pago Pago', 'Oceania', '44273', '46189', '51368', '54849', '58230', '47818', '32886', '27075', '199', '222.4774', '0.9831', '0'], ['203', 'AND', 'Andorra', 'Andorra la Vella', 'Europe', '79824', '77700', '71746', '71519', '66097', '53569', '35611', '19860', '468', '170.5641', '1.01', '0'], ['42', 'AGO', 'Angola', 'Luanda', 'Africa', '35588987', '33428485', '28127721', '23364185', '16394062', '11828638', '8330047', '6029700', '1246700', '28.5466', '1.0315', '0.45'], ['224', 'AIA', 'Anguilla', 'The Valley', 'North America', '15857', '15585', '14525', '13172', '11047', '8316', '6560', '6283', '91', '174.2527', '1.0066', '0'], ['201', 'ATG', 'Antigua and Barbuda', 'Saint Johnâ€™s', 'North America', '93763', '92664', '89941', '85695', '75055', '63328', '64888', '64516', '442', '212.1335', '1.0058', '0'], ['33', 'ARG', 'Argentina', 'Buenos Aires', 'South America', '45510318', '45036032', '43257065', '41100123', '37070774', '32637657', '28024803', '23842803', '2780400', '16.3683', '1.0052', '0.57'], ['140', 'ARM', 'Armenia', 'Yerevan', 'Asia', '2780469', '2805608', '2878595', '2946293', '3168523', '3556539', '3135123', '2534377', '29743', '93.4831', '0.9962', '0.03'], ['198', 'ABW', 'Aruba', 'Oranjestad', 'North America', '106445', '106585', '104257', '100341', '89101', '65712', '62267', '59106', '180', '591.3611', '0.9991', '0'], ['55', 'AUS', 'Australia', 'Canberra', 'Oceania', '26177413', '25670051', '23820236', '22019168', '19017963', '17048003', '14706322', '12595034', '7692024', '3.4032', '1.0099', '0.33'], ['99', 'AUT', 'Austria', 'Vienna', 'Europe', '8939617', '8907777', '8642421', '8362829', '8010428', '7678729', '7547561', '7465301', '83871', '106.5877', '1.002', '0.11'], ['91', 'AZE', 'Azerbaijan', 'Baku', 'Asia', '10358074', '10284951', '9863480', '9237202', '8190337', '7427836', '6383060', '5425317', '86600', '119.6082', '1.0044', '0.13'], ['176', 'BHS', 'Bahamas', 'Nassau', 'North America', '409984', '406471', '392697', '373272', '325014', '270679', '223752', '179129', '13943', '29.4043', '1.0051', '0.01'], ['154', 'BHR', 'Bahrain', 'Manama', 'Asia', '1472233', '1477469', '1362142', '1213645', '711442', '517418', '362595', '222555', '765', '1924.4876', '1.0061', '0.02'], ['8', 'BGD', 'Bangladesh', 'Dhaka', 'Asia', '171186372', '167420951', '157830000', '148391139', '129193327', '107147651', '83929765', '67541860', '147570', '1160.035', '1.0108', '2.15'], ['186', 'BRB', 'Barbados', 'Bridgetown', 'North America', '281635', '280693', '278083', '274711', '264657', '258868', '253575', '241397', '430', '654.9651', '1.0015', '0'], ['96', 'BLR', 'Belarus', 'Minsk', 'Europe', '9534954', '9633740', '9700609', '9731427', '10256483', '10428525', '9817257', '9170786', '207600', '45.9295', '0.9955', '0.12'], ['81', 'BEL', 'Belgium', 'Brussels', 'Europe', '11655930', '11561717', '11248303', '10877947', '10264343', '9959560', '9828986', '9629376', '30528', '381.8111', '1.0038', '0.15'], ['177', 'BLZ', 'Belize', 'Belmopan', 'North America', '405272', '394921', '359871', '322106', '240406', '182589', '145133', '120905', '22966', '17.6466', '1.0131', '0.01'], ['77', 'BEN', 'Benin', 'Porto-Novo', 'Africa', '13352864', '12643123', '10932783', '9445710', '6998023', '5133419', '3833939', '3023443', '112622', '118.5635', '1.0274', '0.17'], ['206', 'BMU', 'Bermuda', 'Hamilton', 'North America', '64184', '64031', '63144', '63447', '61371', '57470', '53565', '52019', '54', '1188.5926', '1', '0'], ['165', 'BTN', 'Bhutan', 'Thimphu', 'Asia', '782455', '772506', '743274', '705516', '587207', '558442', '415257', '298894', '38394', '20.3796', '1.0064', '0.01'], ['80', 'BOL', 'Bolivia', 'Sucre', 'South America', '12224110', '11936162', '11090085', '10223270', '8592656', '7096194', '5736088', '4585693', '1098581', '11.1272', '1.012', '0.15'], ['137', 'BIH', 'Bosnia and Herzegovina', 'Sarajevo', 'Europe', '3233526', '3318407', '3524324', '3811088', '4179350', '4494310', '4199820', '3815561', '51209', '63.1437', '0.9886', '0.04'], ['144', 'BWA', 'Botswana', 'Gaborone', 'Africa', '2630296', '2546402', '2305171', '2091664', '1726985', '1341474', '938578', '592244', '582000', '4.5194', '1.0162', '0.03'], ['7', 'BRA', 'Brazil', 'Brasilia', 'South America', '215313498', '213196304', '205188205', '196353492', '175873720', '150706446', '122288383', '96369875', '8515767', '25.2841', '1.0046', '2.7'], ['221', 'VGB', 'British Virgin Islands', 'Road Town', 'North America', '31305', '30910', '29366', '27556', '20104', '15617', '11109', '9581', '151', '207.3179', '1.0059', '0'], ['175', 'BRN', 'Brunei', 'Bandar Seri Begawan', 'Asia', '449002', '441725', '421437', '396053', '333926', '261928', '187921', '133343', '5765', '77.8841', '1.0081', '0.01'], ['108', 'BGR', 'Bulgaria', 'Sofia', 'Europe', '6781953', '6979175', '7309253', '7592273', '8097691', '8767778', '8980606', '8582950', '110879', '61.1654', '0.9849', '0.09'], ['58', 'BFA', 'Burkina Faso', 'Ouagadougou', 'Africa', '22673762', '21522626', '18718019', '16116845', '11882888', '9131361', '6932967', '5611666', '272967', '83.0641', '1.0259', '0.28'], ['78', 'BDI', 'Burundi', 'Bujumbura', 'Africa', '12889576', '12220227', '10727148', '9126605', '6307659', '5483793', '4312834', '3497834', '27834', '463.0874', '1.027', '0.16'], ['73', 'KHM', 'Cambodia', 'Phnom Penh', 'Asia', '16767842', '16396860', '15417523', '14363532', '12118841', '8910808', '6198959', '6708525', '181035', '92.6221', '1.0108', '0.21'], ['53', 'CMR', 'Cameroon', 'Yaounde', 'Africa', '27914536', '26491087', '23012646', '19878036', '15091594', '11430520', '8519891', '6452787', '475442', '58.7128', '1.0263', '0.35'], ['39', 'CAN', 'Canada', 'Ottawa', 'North America', '38454327', '37888705', '35732126', '33963412', '30683313', '27657204', '24511510', '21434577', '9984670', '3.8513', '1.0078', '0.48'], ['171', 'CPV', 'Cape Verde', 'Praia', 'Africa', '593149', '582640', '552166', '521212', '458251', '364563', '317234', '287262', '4033', '147.0739', '1.0089', '0.01'], ['205', 'CYM', 'Cayman Islands', 'George Town', 'North America', '68706', '67311', '60911', '54074', '39658', '26027', '17100', '10533', '264', '260.25', '1.0084', '0'], ['117', 'CAF', 'Central African Republic', 'Bangui', 'Africa', '5579144', '5343020', '4819333', '4660067', '3759170', '2809221', '2415276', '2067356', '622984', '8.9555', '1.0224', '0.07'], ['69', 'TCD', 'Chad', \"N'Djamena\", 'Africa', '17723315', '16644701', '14140274', '11894727', '8259137', '5827069', '4408230', '3667394', '1284000', '13.8032', '1.0316', '0.22'], ['65', 'CHL', 'Chile', 'Santiago', 'South America', '19603733', '19300315', '17870124', '17004162', '15351799', '13342868', '11469828', '9820481', '756102', '25.9274', '1.0057', '0.25'], ['1', 'CHN', 'China', 'Beijing', 'Asia', '1425887337', '1424929781', '1393715448', '1348191368', '1264099069', '1153704252', '982372466', '822534450', '9706961', '146.8933', '1', '17.88'], ['28', 'COL', 'Colombia', 'Bogota', 'South America', '51874024', '50930662', '47119728', '44816108', '39215135', '32601393', '26176195', '20905254', '1141748', '45.4339', '1.0069', '0.65'], ['163', 'COM', 'Comoros', 'Moroni', 'Africa', '836774', '806166', '730216', '656024', '536758', '431119', '328328', '242351', '1862', '449.3953', '1.0184', '0.01'], ['223', 'COK', 'Cook Islands', 'Avarua', 'Oceania', '17011', '17029', '17695', '17212', '15897', '17123', '17651', '20470', '236', '72.0805', '1.0005', '0'], ['124', 'CRI', 'Costa Rica', 'San JosÃ©', 'North America', '5180829', '5123105', '4895242', '4622252', '3979193', '3158253', '2414303', '1855697', '51100', '101.3861', '1.0052', '0.06'], ['130', 'HRV', 'Croatia', 'Zagreb', 'Europe', '4030358', '4096868', '4254815', '4368682', '4548434', '4873707', '4680144', '4492638', '56594', '71.2153', '0.9927', '0.05'], ['85', 'CUB', 'Cuba', 'Havana', 'North America', '11212191', '11300698', '11339894', '11290417', '11105791', '10626680', '9809107', '8869636', '109884', '102.0366', '0.9961', '0.14'], ['189', 'CUW', 'Curacao', 'Willemstad', 'North America', '191163', '189288', '169572', '159380', '141424', '155446', '156851', '150385', '444', '430.5473', '1.0043', '0'], ['158', 'CYP', 'Cyprus', 'Nicosia', 'Europe', '1251488', '1237537', '1187280', '1129686', '948237', '788500', '679327', '640804', '9251', '135.2814', '1.0059', '0.02'], ['88', 'CZE', 'Czech Republic', 'Prague', 'Europe', '10493986', '10530953', '10523798', '10464749', '10234710', '10301192', '10270060', '9795744', '78865', '133.0627', '0.9984', '0.13'], ['115', 'DNK', 'Denmark', 'Copenhagen', 'Europe', '5882261', '5825641', '5677796', '5550849', '5340655', '5144623', '5125392', '4922963', '43094', '136.4984', '1.0048', '0.07'], ['160', 'DJI', 'Djibouti', 'Djibouti', 'Africa', '1120849', '1090156', '1006259', '919199', '742033', '577173', '324121', '144379', '23200', '48.3125', '1.0138', '0.01'], ['204', 'DMA', 'Dominica', 'Roseau', 'North America', '72737', '71995', '70007', '68755', '68346', '69481', '72978', '68895', '751', '96.8535', '1.0045', '0'], ['84', 'DOM', 'Dominican Republic', 'Santo Domingo', 'North America', '11228821', '10999664', '10405832', '9775755', '8540791', '7129004', '5755800', '4475871', '48671', '230.7087', '1.01', '0.14'], ['15', 'COD', 'DR Congo', 'Kinshasa', 'Africa', '99010212', '92853164', '78656904', '66391257', '48616317', '35987541', '26708686', '20151733', '2344858', '42.2244', '1.0325', '1.24'], ['67', 'ECU', 'Ecuador', 'Quito', 'South America', '18001000', '17588595', '16195902', '14989585', '12626507', '10449837', '8135845', '6172215', '276841', '65.0229', '1.0114', '0.23'], ['14', 'EGY', 'Egypt', 'Cairo', 'Africa', '110990103', '107465134', '97723799', '87252413', '71371371', '57214630', '43748556', '34781986', '1002450', '110.7188', '1.0158', '1.39'], ['112', 'SLV', 'El Salvador', 'San Salvador', 'North America', '6336392', '6292731', '6231066', '6114034', '5958482', '5367179', '4508992', '3619090', '21041', '301.145', '1.0035', '0.08'], ['152', 'GNQ', 'Equatorial Guinea', 'Malabo', 'Africa', '1674908', '1596049', '1346973', '1094524', '684977', '465549', '282509', '316955', '28051', '59.7094', '1.0247', '0.02'], ['132', 'ERI', 'Eritrea', 'Asmara', 'Africa', '3684032', '3555868', '3340006', '3147727', '2392880', '2149960', '1657982', '1272748', '117600', '31.3268', '1.0176', '0.05'], ['156', 'EST', 'Estonia', 'Tallinn', 'Europe', '1326062', '1329444', '1314657', '1331535', '1396877', '1570674', '1476983', '1361999', '45227', '29.3201', '0.998', '0.02'], ['159', 'SWZ', 'Eswatini', 'Mbabane', 'Africa', '1201670', '1180655', '1133936', '1099920', '1030496', '854011', '598564', '442865', '17364', '69.2047', '1.0079', '0.02'], ['12', 'ETH', 'Ethiopia', 'Addis Ababa', 'Africa', '123379924', '117190911', '102471895', '89237791', '67031867', '47878073', '34945469', '28308246', '1104300', '111.7268', '1.0257', '1.55'], ['231', 'FLK', 'Falkland Islands', 'Stanley', 'South America', '3780', '3747', '3408', '3187', '3080', '2332', '2240', '2274', '12173', '0.3105', '1.0043', '0'], ['209', 'FRO', 'Faroe Islands', 'TÃ³rshavn', 'Europe', '53090', '52415', '48816', '48410', '45660', '47479', '43054', '38416', '1393', '38.112', '1.0038', '0'], ['162', 'FJI', 'Fiji', 'Suva', 'Oceania', '929766', '920422', '917200', '905169', '832509', '780430', '644582', '527634', '18272', '50.8847', '1.0056', '0.01'], ['118', 'FIN', 'Finland', 'Helsinki', 'Europe', '5540745', '5529468', '5479461', '5363271', '5176209', '4986545', '4779418', '4606621', '338424', '16.3722', '1.0009', '0.07'], ['23', 'FRA', 'France', 'Paris', 'Europe', '64626628', '64480053', '63809769', '62444567', '58665453', '56412897', '53713830', '50523586', '551695', '117.1419', '1.0015', '0.81'], ['184', 'GUF', 'French Guiana', 'Cayenne', 'South America', '304557', '290969', '257026', '228453', '164351', '113931', '66825', '46484', '83534', '3.6459', '1.0239', '0'], ['183', 'PYF', 'French Polynesia', 'Papeete', 'Oceania', '306279', '301920', '291787', '283788', '250927', '211089', '163591', '117891', '4167', '73.5011', '1.0074', '0'], ['146', 'GAB', 'Gabon', 'Libreville', 'Africa', '2388992', '2292573', '2028517', '1711105', '1272935', '983028', '749078', '597192', '267668', '8.9252', '1.0204', '0.03'], ['142', 'GMB', 'Gambia', 'Banjul', 'Africa', '2705992', '2573995', '2253133', '1937275', '1437539', '1040616', '718586', '528731', '10689', '253.1567', '1.025', '0.03'], ['131', 'GEO', 'Georgia', 'Tbilisi', 'Asia', '3744385', '3765912', '3771132', '3836831', '4265172', '5391636', '5145843', '4800426', '69700', '53.7214', '0.9964', '0.05'], ['19', 'DEU', 'Germany', 'Berlin', 'Europe', '83369843', '83328988', '82073226', '81325090', '81551677', '79370196', '77786703', '78294583', '357114', '233.4544', '0.9995', '1.05'], ['47', 'GHA', 'Ghana', 'Accra', 'Africa', '33475870', '32180401', '28870939', '25574719', '19665502', '15446982', '11865246', '8861895', '238533', '140.3406', '1.0196', '0.42'], ['219', 'GIB', 'Gibraltar', 'Gibraltar', 'Europe', '32649', '32709', '32520', '31262', '27741', '27317', '28734', '26685', '6', '5441.5', '0.9994', '0'], ['90', 'GRC', 'Greece', 'Athens', 'Europe', '10384971', '10512232', '10806641', '11033783', '11038109', '10302255', '9307148', '8544873', '131990', '78.68', '0.9942', '0.13'], ['208', 'GRL', 'Greenland', 'Nuuk', 'North America', '56466', '56026', '55895', '56351', '56184', '55599', '50106', '45434', '2166086', '0.0261', '1.004', '0'], ['193', 'GRD', 'Grenada', \"Saint George's\", 'North America', '125438', '123663', '118980', '114039', '107432', '99047', '94838', '98794', '344', '364.6453', '1.0066', '0'], ['178', 'GLP', 'Guadeloupe', 'Basse-Terre', 'North America', '395752', '395642', '399089', '403072', '424067', '391951', '334234', '318310', '1628', '243.0909', '0.9992', '0'], ['191', 'GUM', 'Guam', 'HagÃ¥tÃ±a', 'Oceania', '171774', '169231', '167978', '164905', '160188', '138263', '110286', '88300', '549', '312.8852', '1.0073', '0'], ['68', 'GTM', 'Guatemala', 'Guatemala City', 'North America', '17843908', '17362718', '16001107', '14543121', '11735894', '9084780', '6987767', '5453208', '108889', '163.8725', '1.0134', '0.22'], ['207', 'GGY', 'Guernsey', 'Saint Peter Port', 'Europe', '63301', '62794', '61629', '60782', '59114', '57727', '52860', '52656', '78', '811.5513', '1.0037', '0'], ['75', 'GIN', 'Guinea', 'Conakry', 'Africa', '13859341', '13205153', '11625998', '10270728', '8336967', '6354145', '4972609', '4222374', '245857', '56.3716', '1.0242', '0.17'], ['149', 'GNB', 'Guinea-Bissau', 'Bissau', 'Africa', '2105566', '2015828', '1788919', '1567220', '1230849', '973551', '831462', '591663', '36125', '58.2856', '1.0218', '0.03'], ['164', 'GUY', 'Guyana', 'Georgetown', 'South America', '808726', '797202', '755031', '747932', '759051', '747116', '778176', '705261', '214969', '3.7621', '1.0052', '0.01'], ['82', 'HTI', 'Haiti', 'Port-au-Prince', 'North America', '11584996', '11306801', '10563757', '9842880', '8360225', '6925331', '5646676', '4680812', '27750', '417.4773', '1.012', '0.15'], ['89', 'HND', 'Honduras', 'Tegucigalpa', 'North America', '10432860', '10121763', '9294505', '8450933', '6656725', '5053234', '3777990', '2782753', '112492', '92.7431', '1.015', '0.13'], ['104', 'HKG', 'Hong Kong', 'Hong Kong', 'Asia', '7488865', '7500958', '7399838', '7132438', '6731195', '5838574', '4978544', '3955072', '1104', '6783.3922', '0.9992', '0.09'], ['94', 'HUN', 'Hungary', 'Budapest', 'Europe', '9967308', '9750573', '9844246', '9986825', '10202055', '10375989', '10698679', '10315366', '93028', '107.1431', '1.0265', '0.12'], ['179', 'ISL', 'Iceland', 'ReykjavÃ\\xadk', 'Europe', '372899', '366669', '331060', '318333', '281462', '255019', '228263', '204468', '103000', '3.6204', '1.0069', '0'], ['2', 'IND', 'India', 'New Delhi', 'Asia', '1417173173', '1396387127', '1322866505', '1240613620', '1059633675', '870452165', '696828385', '557501301', '3287590', '431.0675', '1.0068', '17.77'], ['4', 'IDN', 'Indonesia', 'Jakarta', 'Asia', '275501339', '271857970', '259091970', '244016173', '214072421', '182159874', '148177096', '115228394', '1904569', '144.6529', '1.0064', '3.45'], ['17', 'IRN', 'Iran', 'Tehran', 'Asia', '88550570', '87290193', '81790841', '75373855', '65544383', '55793629', '38520664', '28449705', '1648195', '53.7258', '1.0071', '1.11'], ['35', 'IRQ', 'Iraq', 'Baghdad', 'Asia', '44496122', '42556984', '37757813', '31264875', '24628858', '17658381', '13653369', '9811347', '438317', '101.5158', '1.0221', '0.56'], ['125', 'IRL', 'Ireland', 'Dublin', 'Europe', '5023109', '4946119', '4665760', '4524585', '3768950', '3485374', '3391387', '2937637', '70273', '71.4799', '1.0073', '0.06'], ['202', 'IMN', 'Isle of Man', 'Douglas', 'Europe', '84519', '84046', '83593', '83828', '75562', '68865', '64022', '55298', '572', '147.7605', '1.003', '0'], ['98', 'ISR', 'Israel', 'Jerusalem', 'Asia', '9038309', '8757489', '8007778', '7328445', '6116958', '4803254', '3744608', '2907307', '20770', '435.1617', '1.0155', '0.11'], ['25', 'ITA', 'Italy', 'Rome', 'Europe', '59037474', '59500579', '60232906', '59822450', '56966397', '56756561', '56329482', '53324036', '301336', '195.9191', '0.9966', '0.74']]\n"
     ]
    }
   ],
   "source": [
    "import csv\n",
    "filename = \"world_population.csv\"\n",
    "\n",
    "fields = []\n",
    "rows = []\n",
    "\n",
    "with open(filename, \"r\") as csvfile:\n",
    "    csvreader = csv.reader(csvfile)\n",
    "    fields = next(csvreader)\n",
    "    for row in csvreader:\n",
    "        rows.append(row)\n",
    "\n",
    "print(fields)\n",
    "print(rows[0:100])"
   ]
  },
  {
   "cell_type": "markdown",
   "id": "5568c559",
   "metadata": {},
   "source": [
    "### Give the Python statements to do the followings."
   ]
  },
  {
   "cell_type": "markdown",
   "id": "9ce002b0",
   "metadata": {},
   "source": [
    "a. Display all the countries in the dataset."
   ]
  },
  {
   "cell_type": "code",
   "execution_count": 51,
   "id": "9606a6f7",
   "metadata": {},
   "outputs": [
    {
     "name": "stdout",
     "output_type": "stream",
     "text": [
      "All countries:\n",
      " {'Belize', 'Jamaica', 'Grenada', 'France', 'Micronesia', 'Ivory Coast', 'Australia', 'Uruguay', 'Maldives', 'Curacao', 'Peru', 'Gambia', 'Panama', 'Portugal', 'Morocco', 'Kenya', 'North Korea', 'Switzerland', 'Djibouti', 'Yemen', 'Mayotte', 'China', 'Liechtenstein', 'French Guiana', 'Lebanon', 'Namibia', 'Belgium', 'Singapore', 'Barbados', 'Denmark', 'Antigua and Barbuda', 'Argentina', 'Bahrain', 'Sao Tome and Principe', 'Zambia', 'Vatican City', 'Guyana', 'Republic of the Congo', 'DR Congo', 'Sweden', 'Reunion', 'Sint Maarten', 'United Arab Emirates', 'Rwanda', 'Guadeloupe', 'Saudi Arabia', 'Greece', 'United States', 'Northern Mariana Islands', 'Montenegro', 'Somalia', 'Slovakia', 'Comoros', 'Afghanistan', 'Palestine', 'Greenland', 'Lesotho', 'Angola', 'Malta', 'Nigeria', 'Saint Lucia', 'Bolivia', 'Malaysia', 'Sierra Leone', 'Guatemala', 'Andorra', 'Guinea-Bissau', 'Anguilla', 'Bosnia and Herzegovina', 'Aruba', 'Niger', 'Botswana', 'Saint Vincent and the Grenadines', 'Cook Islands', 'Uganda', 'Philippines', 'Palau', 'Turkmenistan', 'Vanuatu', 'Tokelau', 'United Kingdom', 'Burundi', 'Russia', 'South Africa', 'Iran', 'Brazil', 'Armenia', 'Bermuda', 'Western Sahara', 'Italy', 'Czech Republic', 'Canada', 'Ecuador', 'Luxembourg', 'Ukraine', 'Mali', 'Nauru', 'Malawi', 'Honduras', 'Guernsey', 'Eritrea', 'Iceland', 'Netherlands', 'New Zealand', 'Fiji', 'Ireland', 'Japan', 'Niue', 'Paraguay', 'Cambodia', 'Belarus', 'Tanzania', 'Zimbabwe', 'Poland', 'Benin', 'Norway', 'Oman', 'Seychelles', 'Turks and Caicos Islands', 'Jordan', 'Marshall Islands', 'Puerto Rico', 'Monaco', 'Samoa', 'Suriname', 'Timor-Leste', 'Sri Lanka', 'Hong Kong', 'Saint Barthelemy', 'Solomon Islands', 'Guam', 'Myanmar', 'Egypt', 'Brunei', 'Guinea', 'Saint Kitts and Nevis', 'Nepal', 'Cyprus', 'Sudan', 'Chile', 'Wallis and Futuna', 'Bangladesh', 'Slovenia', 'Azerbaijan', 'Central African Republic', 'Cuba', 'Mauritania', 'Croatia', 'San Marino', 'Venezuela', 'North Macedonia', 'Papua New Guinea', 'Cape Verde', 'Algeria', 'Senegal', 'Israel', 'Jersey', 'Romania', 'Tajikistan', 'Colombia', 'Albania', 'Estonia', 'Germany', 'Kuwait', 'Faroe Islands', 'Libya', 'Spain', 'Saint Pierre and Miquelon', 'Tuvalu', 'Vietnam', 'Indonesia', 'Mauritius', 'Uzbekistan', 'Austria', 'American Samoa', 'Mozambique', 'Kazakhstan', 'Finland', 'United States Virgin Islands', 'Qatar', 'Ethiopia', 'Mongolia', 'South Korea', 'Martinique', 'Liberia', 'Latvia', 'Montserrat', 'Saint Martin', 'India', 'Tunisia', 'Kyrgyzstan', 'Haiti', 'Bahamas', 'Dominica', 'New Caledonia', 'Nicaragua', 'Ghana', 'Chad', 'South Sudan', 'Laos', 'Burkina Faso', 'French Polynesia', 'El Salvador', 'Gibraltar', 'Costa Rica', 'Hungary', 'Cameroon', 'Bhutan', 'Eswatini', 'Mexico', 'Turkey', 'Serbia', 'Trinidad and Tobago', 'Togo', 'Cayman Islands', 'Isle of Man', 'British Virgin Islands', 'Pakistan', 'Moldova', 'Iraq', 'Macau', 'Bulgaria', 'Lithuania', 'Gabon', 'Thailand', 'Taiwan', 'Georgia', 'Dominican Republic', 'Kiribati', 'Falkland Islands', 'Tonga', 'Syria', 'Equatorial Guinea', 'Madagascar'} \n"
     ]
    }
   ],
   "source": [
    "import csv\n",
    "filename = \"world_population.csv\"\n",
    "\n",
    "fields = []\n",
    "rows = []\n",
    "\n",
    "with open(filename, \"r\") as csvfile:\n",
    "    csvreader = csv.reader(csvfile)\n",
    "    fields = next(csvreader)\n",
    "    for row in csvreader:\n",
    "        rows.append(row)\n",
    "\n",
    "print(f'All countries:\\n {set(i[2] for i in rows)} ')"
   ]
  },
  {
   "cell_type": "markdown",
   "id": "25178acc",
   "metadata": {},
   "source": [
    "b. Display all the continents in the dataset. (Unique values only. No duplicates)"
   ]
  },
  {
   "cell_type": "code",
   "execution_count": 11,
   "id": "6ab5ece7",
   "metadata": {},
   "outputs": [
    {
     "name": "stdout",
     "output_type": "stream",
     "text": [
      "All Continents:\n",
      " {'North America', 'Oceania', 'South America', 'Asia', 'Africa', 'Europe'} \n"
     ]
    }
   ],
   "source": [
    "import csv\n",
    "filename = \"world_population.csv\"\n",
    "\n",
    "fields = []\n",
    "rows = []\n",
    "\n",
    "with open(filename, \"r\") as csvfile:\n",
    "    csvreader = csv.reader(csvfile)\n",
    "    fields = next(csvreader)\n",
    "    for row in csvreader:\n",
    "        rows.append(row)\n",
    "\n",
    "print(f'All Continents:\\n {set(i[4] for i in rows)} ')"
   ]
  },
  {
   "cell_type": "markdown",
   "id": "accc2124",
   "metadata": {},
   "source": [
    "c. Display all the Europian countries."
   ]
  },
  {
   "cell_type": "code",
   "execution_count": 14,
   "id": "0de63217",
   "metadata": {},
   "outputs": [
    {
     "name": "stdout",
     "output_type": "stream",
     "text": [
      "All European Countries:\n",
      "{'Latvia', 'Montenegro', 'Norway', 'Slovakia', 'France', 'Malta', 'Monaco', 'Portugal', 'Andorra', 'Bosnia and Herzegovina', 'Switzerland', 'Cyprus', 'Gibraltar', 'Hungary', 'Slovenia', 'United Kingdom', 'Croatia', 'Liechtenstein', 'Russia', 'San Marino', 'Serbia', 'North Macedonia', 'Belgium', 'Isle of Man', 'Denmark', 'Romania', 'Jersey', 'Moldova', 'Italy', 'Vatican City', 'Bulgaria', 'Lithuania', 'Albania', 'Czech Republic', 'Germany', 'Estonia', 'Luxembourg', 'Ukraine', 'Faroe Islands', 'Spain', 'Netherlands', 'Austria', 'Guernsey', 'Iceland', 'Ireland', 'Sweden', 'Finland', 'Belarus', 'Greece', 'Poland'}\n"
     ]
    }
   ],
   "source": [
    "import csv\n",
    "filename = \"world_population.csv\"\n",
    "\n",
    "fields = []\n",
    "rows = []\n",
    "\n",
    "with open(filename, \"r\") as csvfile:\n",
    "    csvreader = csv.reader(csvfile)\n",
    "    fields = next(csvreader)\n",
    "    for row in csvreader:\n",
    "        rows.append(row)\n",
    "\n",
    "print(f'All European Countries:\\n{set( i[2] for i in list(filter(lambda i: i[4] == \"Europe\",rows)))}')"
   ]
  },
  {
   "cell_type": "markdown",
   "id": "0df7f9fb",
   "metadata": {},
   "source": [
    "d. Display all the countries where capitals starts with 'A'."
   ]
  },
  {
   "cell_type": "code",
   "execution_count": 18,
   "id": "028c117f",
   "metadata": {},
   "outputs": [
    {
     "name": "stdout",
     "output_type": "stream",
     "text": [
      "All countries with capitals startig with A:\n",
      "{'Jordan', 'Samoa', 'Nigeria', 'Andorra', 'Ghana', 'Cook Islands', 'Turkmenistan', 'Turkey', 'Algeria', 'Western Sahara', 'Argentina', 'Netherlands', 'Eritrea', 'United Arab Emirates', 'Niue', 'Paraguay', 'United States Virgin Islands', 'Greece', 'Madagascar', 'Ethiopia'}\n"
     ]
    }
   ],
   "source": [
    "import csv\n",
    "filename = \"world_population.csv\"\n",
    "\n",
    "fields = []\n",
    "rows = []\n",
    "\n",
    "with open(filename, \"r\") as csvfile:\n",
    "    csvreader = csv.reader(csvfile)\n",
    "    fields = next(csvreader)\n",
    "    for row in csvreader:\n",
    "        rows.append(row)\n",
    "\n",
    "print(f'All countries with capitals startig with A:\\n{set( i[2] for i in list(filter(lambda i: \"A\" in i[3], rows)))}')"
   ]
  },
  {
   "cell_type": "markdown",
   "id": "1ab0a7bd",
   "metadata": {},
   "source": [
    "e. Display all the countries where 2022 population is less than 4,000,000."
   ]
  },
  {
   "cell_type": "code",
   "execution_count": 25,
   "id": "1d0360f5",
   "metadata": {},
   "outputs": [
    {
     "name": "stdout",
     "output_type": "stream",
     "text": [
      "all the countries where 2022 population is less than 4,000,000:\n",
      "{'Gustavia', 'San Juan', 'Praia', 'Apia', 'Vaduz', 'Bandar Seri Begawan', 'Saint Helier', 'TÃ³rshavn', 'Djibouti', 'NoumÃ©a', 'Saipan', 'Mata-Utu', 'Riga', 'Road Town', 'Sarajevo', 'Willemstad', 'Andorra la Vella', 'Port Louis', 'Banjul', 'Vatican City', 'Port-Vila', 'El AaiÃºn', 'Papeete', 'ReykjavÃ\\xadk', 'Ngerulmud', 'Philipsburg', 'Majuro', 'Charlotte Amalie', 'Maseru', 'Manama', 'Bissau', 'Oranjestad', 'Paramaribo', 'Tirana', 'Cayenne', 'Marigot', 'Vilnius', 'Nicosia', 'Tallinn', 'Skopje', 'Alofi', 'Nassau', 'Douglas', 'Mamoudzou', 'Luxembourg', 'Nukuâ€˜alofa', 'Castries', 'Moroni', 'Tarawa', 'Pago Pago', 'Libreville', 'SÃ£o TomÃ©', 'Dili', 'Yerevan', 'Basse-Terre', 'Tbilisi', 'Monaco', 'Gaborone', 'George Town', 'Honiara', 'Yaren', 'Montevideo', 'Fort-de-France', 'Victoria', 'Ulaanbaatar', 'Roseau', 'HagÃ¥tÃ±a', 'Belmopan', 'Kingston', 'The Valley', 'San Marino', 'Nuuk', 'Saint Johnâ€™s', 'Concelho de Macau', \"Saint George's\", 'Podgorica', 'Asmara', 'Thimphu', 'Malabo', 'Hamilton', 'Doha', 'Kingstown', 'Saint-Denis', 'MalÃ©', 'Ljubljana', 'Stanley', 'Basseterre', 'Funafuti', 'Suva', 'Palikir', 'Gibraltar', 'Cockburn Town', 'Valletta', 'Saint Peter Port', 'Georgetown', 'Mbabane', 'Port-of-Spain', 'Brades', 'Chisinau', 'Nukunonu', 'Bridgetown', 'Windhoek', 'Avarua', 'Saint-Pierre'}\n"
     ]
    }
   ],
   "source": [
    "import csv\n",
    "filename = \"world_population.csv\"\n",
    "\n",
    "fields = []\n",
    "rows = []\n",
    "\n",
    "with open(filename, \"r\") as csvfile:\n",
    "    csvreader = csv.reader(csvfile)\n",
    "    fields = next(csvreader)\n",
    "    for row in csvreader:\n",
    "        rows.append(row)\n",
    "\n",
    "print(f'all the countries where 2022 population is less than 4,000,000:\\n{set( i[3] for i in list(filter(lambda i: int(i[5]) < 4000000,rows)))}')"
   ]
  },
  {
   "cell_type": "markdown",
   "id": "9abf6a96",
   "metadata": {},
   "source": [
    "f. Display the country with world's largest population in 2022."
   ]
  },
  {
   "cell_type": "code",
   "execution_count": 74,
   "id": "35f0de7b",
   "metadata": {},
   "outputs": [
    {
     "name": "stdout",
     "output_type": "stream",
     "text": [
      "The country with the worlds largest population in 2022:\n",
      "China\n"
     ]
    }
   ],
   "source": [
    "import csv\n",
    "filename = \"world_population.csv\"\n",
    "\n",
    "fields = []\n",
    "rows = []\n",
    "\n",
    "with open(filename, \"r\") as csvfile:\n",
    "    csvreader = csv.reader(csvfile)\n",
    "    fields = next(csvreader)\n",
    "    for row in csvreader:\n",
    "        rows.append(row)\n",
    "print(f'The country with the worlds largest population in 2022:\\n{list(filter(lambda i: int(i[5]) == max(list(int(i[5]) for i in rows)),rows))[0][2]}')"
   ]
  },
  {
   "cell_type": "markdown",
   "id": "0a2d1596",
   "metadata": {},
   "source": [
    "g. Display the country with world's smallest populations in 2022."
   ]
  },
  {
   "cell_type": "code",
   "execution_count": 75,
   "id": "4c63d2ba",
   "metadata": {},
   "outputs": [
    {
     "name": "stdout",
     "output_type": "stream",
     "text": [
      "The country with the worlds smallest population in 2022:\n",
      "Vatican City\n"
     ]
    }
   ],
   "source": [
    "import csv\n",
    "filename = \"world_population.csv\"\n",
    "\n",
    "fields = []\n",
    "rows = []\n",
    "\n",
    "with open(filename, \"r\") as csvfile:\n",
    "    csvreader = csv.reader(csvfile)\n",
    "    fields = next(csvreader)\n",
    "    for row in csvreader:\n",
    "        rows.append(row)\n",
    "print(f'The country with the worlds smallest population in 2022:\\n{list(filter(lambda i: int(i[5]) == min(list(int(i[5]) for i in rows)),rows))[0][2]}')"
   ]
  },
  {
   "cell_type": "markdown",
   "id": "4c85ea93",
   "metadata": {},
   "source": [
    "h. Display the country with world's fastest growth rate."
   ]
  },
  {
   "cell_type": "code",
   "execution_count": 90,
   "id": "8a895584",
   "metadata": {},
   "outputs": [
    {
     "name": "stdout",
     "output_type": "stream",
     "text": [
      "Country with the fastest growth rate:\n",
      "Chisinau\n"
     ]
    }
   ],
   "source": [
    "import csv\n",
    "filename = \"world_population.csv\"\n",
    "\n",
    "fields = []\n",
    "rows = []\n",
    "\n",
    "with open(filename, \"r\") as csvfile:\n",
    "    csvreader = csv.reader(csvfile)\n",
    "    fields = next(csvreader)\n",
    "    for row in csvreader:\n",
    "        rows.append(row)\n",
    "print(f'Country with the fastest growth rate:\\n{list(set(i[3] for i in filter(lambda i: float(i[15]) == max([float(i[15]) for i in rows]),rows)))[0]}')"
   ]
  },
  {
   "cell_type": "markdown",
   "id": "5c5181b4",
   "metadata": {},
   "source": [
    "i. Display the first three countries with world's highest population density per squre km area."
   ]
  },
  {
   "cell_type": "code",
   "execution_count": 115,
   "id": "89a0c5fd",
   "metadata": {},
   "outputs": [
    {
     "name": "stdout",
     "output_type": "stream",
     "text": [
      "The first three countries with the highest population density: \n",
      "Concelho de Macau\n",
      "Monaco\n",
      "Singapore\n"
     ]
    }
   ],
   "source": [
    "import csv\n",
    "filename = \"world_population.csv\"\n",
    "\n",
    "fields = []\n",
    "rows = []\n",
    "\n",
    "with open(filename, \"r\") as csvfile:\n",
    "    csvreader = csv.reader(csvfile)\n",
    "    fields = next(csvreader)\n",
    "    for row in csvreader:\n",
    "        rows.append(row)\n",
    "# sort densities from largest to smallest and store in variable\n",
    "densities = sorted(list(float(i[14]) for i in rows),reverse=True)\n",
    "print('The first three countries with the highest population density: ')\n",
    "for x in range(0,3):\n",
    "    print(list(i[3] for i in filter(lambda i: float(i[14]) == densities[x],rows))[0])"
   ]
  },
  {
   "cell_type": "markdown",
   "id": "aade922e",
   "metadata": {},
   "source": [
    "j. Find world population percentage in each continent and write that information into a csv file as a table of 2 columns: Continent,World Population Percentage"
   ]
  },
  {
   "cell_type": "code",
   "execution_count": 138,
   "id": "3cf7a2a5",
   "metadata": {},
   "outputs": [
    {
     "name": "stdout",
     "output_type": "stream",
     "text": [
      "Successfully created file population_percentages_continents.csv\n"
     ]
    }
   ],
   "source": [
    "import csv\n",
    "import collections\n",
    "\n",
    "filename = \"world_population.csv\"\n",
    "\n",
    "fields = []\n",
    "rows = []\n",
    "\n",
    "with open(filename, \"r\") as csvfile:\n",
    "    csvreader = csv.reader(csvfile)\n",
    "    fields = next(csvreader)\n",
    "    for row in csvreader:\n",
    "        rows.append(row)\n",
    "\n",
    "counter = collections.Counter()\n",
    "\n",
    "for row in rows:\n",
    "    counter[row[4]] += float(row[len(fields)-1])\n",
    "filename = \"population_percentages_continents.csv\"\n",
    "fields = ['Continent','World Population Percentage']\n",
    "rows = [[s,counter[s]] for s in counter]\n",
    "with open(filename,'w',newline='') as csvfile:\n",
    "    csvwriter = csv.writer(csvfile)\n",
    "    \n",
    "    csvwriter.writerow(fields)\n",
    "    csvwriter.writerows(rows)\n",
    "    \n",
    "    print(f'Successfully created file {filename}')\n",
    "    "
   ]
  },
  {
   "cell_type": "code",
   "execution_count": null,
   "id": "1b57628c",
   "metadata": {},
   "outputs": [],
   "source": []
  }
 ],
 "metadata": {
  "kernelspec": {
   "display_name": "Python 3 (ipykernel)",
   "language": "python",
   "name": "python3"
  },
  "language_info": {
   "codemirror_mode": {
    "name": "ipython",
    "version": 3
   },
   "file_extension": ".py",
   "mimetype": "text/x-python",
   "name": "python",
   "nbconvert_exporter": "python",
   "pygments_lexer": "ipython3",
   "version": "3.9.12"
  }
 },
 "nbformat": 4,
 "nbformat_minor": 5
}
